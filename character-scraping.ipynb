{
 "cells": [
  {
   "cell_type": "markdown",
   "metadata": {},
   "source": [
    "# This project consists in a Scraping of the One Piece Wiki "
   ]
  },
  {
   "cell_type": "code",
   "execution_count": 1,
   "metadata": {},
   "outputs": [],
   "source": [
    "# librarys\n",
    "from bs4 import BeautifulSoup\n",
    "\n",
    "import requests\n",
    "\n",
    "from selenium import webdriver\n",
    "from selenium.webdriver.common.by import By\n",
    "from selenium.webdriver.support.ui import WebDriverWait\n",
    "from selenium.webdriver.support import expected_conditions as EC\n",
    "\n",
    "import pandas as pd\n",
    "\n"
   ]
  },
  {
   "cell_type": "markdown",
   "metadata": {},
   "source": [
    "Character Data Function"
   ]
  },
  {
   "cell_type": "code",
   "execution_count": 37,
   "metadata": {},
   "outputs": [],
   "source": [
    "def character_data(url):\n",
    "\n",
    "    dados = {}\n",
    "\n",
    "    columns_character = {\n",
    "        \"Name in Japanese:\": \"name_in_japanese\",\n",
    "        \"Romanized Name:\": \"romanized_name\",\n",
    "        \"Name in English:\": \"name_in_english\",\n",
    "        \"First Appearance:\": \"first_appearance\",\n",
    "        \"Affiliations:\": \"affiliations\",\n",
    "        \"Occupations:\": \"occupations\",\n",
    "        \"Epithet:\": \"epithet\",\n",
    "        \"Place of Birth:\": \"place_of_birth\",\n",
    "        \"Residence:\": \"residence\",\n",
    "        \"Age:\": \"age\",\n",
    "        \"Age at Death:\": \"age_at_death\",\n",
    "        \"Birthday:\": \"birthday\",\n",
    "        \"Height:\": \"height\",\n",
    "        \"Bounty:\": \"bounty\"\n",
    "    }\n",
    "\n",
    "\n",
    "    columns_akuma_no_mi = {\n",
    "    \"Name in Japanese\": \"akuma_no_mi_japanese\",\n",
    "    \"Name in English\": \"akuma_no_mi_english\",\n",
    "    \"Meaning:\": \"meaning_akuma_no_mi\",\n",
    "    \"Type:\": \"type_akuma_no_mi\"\n",
    "    }\n",
    "\n",
    "\n",
    "\n",
    "\n",
    "    soup = BeautifulSoup(requests.get(url).content, \"html.parser\")\n",
    "    \n",
    "    first_table = soup.find(\"section\", class_=\"pi-item pi-group pi-border-color pi-collapse pi-collapse-open\")\n",
    "\n",
    "    if first_table:\n",
    "\n",
    "        table_titles = first_table.find_all(\"h3\", class_= \"pi-data-label pi-secondary-font\")\n",
    "\n",
    "        for title in table_titles:\n",
    "            \n",
    "            if title.text in columns_character:\n",
    "                \n",
    "                column_name = columns_character[title.text]\n",
    "                value = title.find_next_sibling(\"div\")\n",
    "                dados[column_name] = value.text.strip() \n",
    "\n",
    "\n",
    "\n",
    "    akuma_no_mi_table = soup.find(\"tbody\")\n",
    "\n",
    "    if akuma_no_mi_table:\n",
    "\n",
    "        table_titles = akuma_no_mi_table.find_all(\"span\", class_= \"pi-data-label pi-secondary-font\")\n",
    "\n",
    "        for title in table_titles:\n",
    "\n",
    "            column_name = columns_akuma_no_mi[title.text]\n",
    "            value = title.find_next_sibling(\"div\")\n",
    "            dados[column_name] = value.text.strip()\n",
    "\n",
    "    return dados \n",
    "    "
   ]
  },
  {
   "cell_type": "code",
   "execution_count": 39,
   "metadata": {},
   "outputs": [
    {
     "name": "stdout",
     "output_type": "stream",
     "text": [
      "{'romanized_name': 'Monkī Dī Rufi', 'affiliations': 'Straw Hat Pirates;Straw Hat Grand Fleet;Four Emperors;Clan of D.;Dadan Family (former);Baratie (temporary, former);[3]Impel Down (former);Ninja-Pirate-Mink-Samurai Alliance (disbanded)', 'occupations': 'Pirate Captain;[2] Emperor;[4] Senior Captain of the Grand Fleet; Prisoner (former); Chore Boy (temporary, former);[3] Bandit (former)', 'residence': 'Foosha Village (former);Mt. Colubo (former);Rusukaina (former)', 'epithet': 'Straw Hat Luffy (麦わらのルフィ, Mugiwara no Rufi?)[10]', 'age': '7 (debut);17 (pre-timeskip);[11]19 (after timeskip)[12][13]', 'birthday': \"May 5th (Children's Day)[14]\", 'height': '91 cm (3\\') (debut, child)[6]172 cm (5\\'8\") (pre-timeskip)[15]174 cm (5\\'9\") (after timeskip)[12][13]', 'bounty': '3,000,000,000[17]1,500,000,000[18]500,000,000[19]400,000,000[20]300,000,000[21]100,000,000[22]30,000,000[23]'}\n",
      "{'romanized_name': 'Monkī Dī Gāpu', 'affiliations': 'Marines[2] (semi-retired);[3] Clan of D.', 'occupations': 'Vice Admiral;[4][3] Instructor[5]', 'residence': 'Foosha Village (former)', 'epithet': '\"Garp the Fist\" (ゲンコツのガープ, Genkotsu no Gāpu?);[7]Hero of the Marines (海軍の英雄, Kaigun no Eiyū?) (VIZ: \"Naval Hero\");[7][8]', 'age': '76 (debut)78 (after timeskip)[9]', 'birthday': 'May 2nd[10]', 'height': '287 cm (9\\'5\")[6]', 'bounty': '(3,000,000,000)[11]'}\n"
     ]
    }
   ],
   "source": [
    "print(character_data(\"https://onepiece.fandom.com/wiki/Monkey_D._Luffy\"))\n",
    "\n",
    "print(character_data(\"https://onepiece.fandom.com/wiki/Monkey_D._Garp\"))\n"
   ]
  },
  {
   "cell_type": "code",
   "execution_count": null,
   "metadata": {},
   "outputs": [],
   "source": []
  }
 ],
 "metadata": {
  "kernelspec": {
   "display_name": "Python 3",
   "language": "python",
   "name": "python3"
  },
  "language_info": {
   "codemirror_mode": {
    "name": "ipython",
    "version": 3
   },
   "file_extension": ".py",
   "mimetype": "text/x-python",
   "name": "python",
   "nbconvert_exporter": "python",
   "pygments_lexer": "ipython3",
   "version": "3.12.3"
  }
 },
 "nbformat": 4,
 "nbformat_minor": 2
}
