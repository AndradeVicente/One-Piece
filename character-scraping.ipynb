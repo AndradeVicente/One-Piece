{
 "cells": [
  {
   "cell_type": "markdown",
   "metadata": {},
   "source": [
    "# This project consists in a Scraping of the One Piece Wiki "
   ]
  },
  {
   "cell_type": "code",
   "execution_count": 1,
   "metadata": {},
   "outputs": [],
   "source": [
    "# librarys\n",
    "from bs4 import BeautifulSoup\n",
    "\n",
    "import requests\n",
    "\n",
    "from selenium import webdriver\n",
    "from selenium.webdriver.common.by import By\n",
    "from selenium.webdriver.support.ui import WebDriverWait\n",
    "from selenium.webdriver.support import expected_conditions as EC\n",
    "\n",
    "import pandas as pd\n",
    "\n"
   ]
  },
  {
   "cell_type": "markdown",
   "metadata": {},
   "source": [
    "Scraping Personagens"
   ]
  },
  {
   "cell_type": "code",
   "execution_count": 28,
   "metadata": {},
   "outputs": [],
   "source": [
    "def character_data(url):\n",
    "\n",
    "    dados = {}\n",
    "\n",
    "    columns_character = {\n",
    "        \"Nome em Japonês:\": \"nome_japones_personagem\",\n",
    "        \"Nome Romanizado:\": \"nome_romanizado\",\n",
    "        \"Nome em Português:\": \"nome_portugues\",\n",
    "        \"Estreia:\": \"primeira_aparicao\",\n",
    "        \"Afiliações:\": \"afiliações\",\n",
    "        \"Ocupações:\": \"ocupacoes\",\n",
    "        \"Epíteto:\": \"epiteto\",\n",
    "        \"Local de Nascimento:\": \"local_nascimento\",\n",
    "        \"Residência:\": \"residencia\",\n",
    "        \"Idade:\": \"idade_atual\",\n",
    "        \"Idade na Morte:\": \"idade_morte\",\n",
    "        \"Aniversário:\": \"aniversario\",\n",
    "        \"Altura:\": \"altura\"\n",
    "    }\n",
    "\n",
    "    columns_akuma_no_mi = {\n",
    "        \"Nome em Japonês\": \"akuma_no_mi_japones\",\n",
    "        \"Nome em Português\": \"akuma_no_mi_portugues\",\n",
    "        \"Significado:\": \"sig_akuma_no_mi\",\n",
    "        \"Tipo:\": \"tipo_akuma_no_mi\"\n",
    "    }\n",
    "\n",
    "\n",
    "\n",
    "    soup = BeautifulSoup(requests.get(url).content, \"html.parser\")\n",
    "    \n",
    "    first_table = soup.find(\"section\", class_=\"pi-item pi-group pi-border-color pi-collapse pi-collapse-open\")\n",
    "\n",
    "    if first_table:\n",
    "\n",
    "        table_titles = first_table.find_all(\"h3\", class_= \"pi-data-label pi-secondary-font\")\n",
    "\n",
    "        for title in table_titles:\n",
    "            \n",
    "            if title.text in columns_character:\n",
    "                \n",
    "                column_name = columns_character[title.text]\n",
    "                value = title.find_next_sibling(\"div\")\n",
    "                dados[column_name] = value.text.strip() \n",
    "\n",
    "        recompensa = soup.find(\"span\", style=\"white-space:nowrap;\")  # Seleciona o primeiro span com estilo específico\n",
    "        \n",
    "        if first_bounty and first_bounty.next_sibling:\n",
    "            dados[\"recompensa\"] = recompensa.next_sibling.strip()\n",
    "        else:\n",
    "            dados[\"recompensa\"] = None\n",
    "\n",
    "    akuma_no_mi_table = soup.find(\"tbody\")\n",
    "\n",
    "    if akuma_no_mi_table:\n",
    "\n",
    "        table_titles = akuma_no_mi_table.find_all(\"span\", class_= \"pi-data-label pi-secondary-font\")\n",
    "\n",
    "        for title in table_titles:\n",
    "\n",
    "            column_name = columns_akuma_no_mi[title.text]\n",
    "            value = title.find_next_sibling(\"div\")\n",
    "            dados[column_name] = value.text.strip()\n",
    "\n",
    "    return dados \n",
    "    "
   ]
  },
  {
   "cell_type": "code",
   "execution_count": 29,
   "metadata": {},
   "outputs": [
    {
     "ename": "NameError",
     "evalue": "name 'first_bounty' is not defined",
     "output_type": "error",
     "traceback": [
      "\u001b[1;31m---------------------------------------------------------------------------\u001b[0m",
      "\u001b[1;31mNameError\u001b[0m                                 Traceback (most recent call last)",
      "Cell \u001b[1;32mIn[29], line 1\u001b[0m\n\u001b[1;32m----> 1\u001b[0m \u001b[43mcharacter_data\u001b[49m\u001b[43m(\u001b[49m\u001b[38;5;124;43m\"\u001b[39;49m\u001b[38;5;124;43mhttps://onepiece.fandom.com/pt/wiki/Monkey_D._Garp\u001b[39;49m\u001b[38;5;124;43m\"\u001b[39;49m\u001b[43m)\u001b[49m\n",
      "Cell \u001b[1;32mIn[28], line 48\u001b[0m, in \u001b[0;36mcharacter_data\u001b[1;34m(url)\u001b[0m\n\u001b[0;32m     44\u001b[0m         dados[column_name] \u001b[38;5;241m=\u001b[39m value\u001b[38;5;241m.\u001b[39mtext\u001b[38;5;241m.\u001b[39mstrip() \n\u001b[0;32m     46\u001b[0m recompensa \u001b[38;5;241m=\u001b[39m soup\u001b[38;5;241m.\u001b[39mfind(\u001b[38;5;124m\"\u001b[39m\u001b[38;5;124mspan\u001b[39m\u001b[38;5;124m\"\u001b[39m, style\u001b[38;5;241m=\u001b[39m\u001b[38;5;124m\"\u001b[39m\u001b[38;5;124mwhite-space:nowrap;\u001b[39m\u001b[38;5;124m\"\u001b[39m)  \u001b[38;5;66;03m# Seleciona o primeiro span com estilo específico\u001b[39;00m\n\u001b[1;32m---> 48\u001b[0m \u001b[38;5;28;01mif\u001b[39;00m \u001b[43mfirst_bounty\u001b[49m \u001b[38;5;129;01mand\u001b[39;00m first_bounty\u001b[38;5;241m.\u001b[39mnext_sibling:\n\u001b[0;32m     49\u001b[0m     dados[\u001b[38;5;124m\"\u001b[39m\u001b[38;5;124mrecompensa\u001b[39m\u001b[38;5;124m\"\u001b[39m] \u001b[38;5;241m=\u001b[39m recompensa\u001b[38;5;241m.\u001b[39mnext_sibling\u001b[38;5;241m.\u001b[39mstrip()\n\u001b[0;32m     50\u001b[0m \u001b[38;5;28;01melse\u001b[39;00m:\n",
      "\u001b[1;31mNameError\u001b[0m: name 'first_bounty' is not defined"
     ]
    }
   ],
   "source": [
    "character_data(\"https://onepiece.fandom.com/pt/wiki/Monkey_D._Garp\")"
   ]
  },
  {
   "cell_type": "code",
   "execution_count": null,
   "metadata": {},
   "outputs": [
    {
     "name": "stdout",
     "output_type": "stream",
     "text": [
      "['Nome em Japonês:', 'Nome Romanizado:', 'Nome em Português:', 'Estreia:', 'Afiliações:', 'Ocupações:', 'Residência:', 'Epíteto:', 'Estado:', 'Idade na Morte:', 'Aniversário:', 'Altura:', 'Recompensa:', 'Voz Japonesa:']\n",
      "['Nome em Japonês:', 'Nome Romanizado:', 'Nome em Português:', 'Estreia:', 'Afiliações:', 'Ocupações:', 'Local de Nascimento:', 'Residência:', 'Pseudônimo:', 'Epíteto:', 'Estado:', 'Idade:', 'Aniversário:', 'Altura:', 'Tipo Sanguíneo:', 'Recompensa:', 'Voz Japonesa:', 'Voz Brasileira (DPN Santos):', 'Voz Brasileira (UniDub):', 'Intérprete do Live-Action:', 'Voz Brasileira no Live-Action:', 'Nome em Japonês', 'Nome em Português:', 'Significado:', 'Tipo:']\n"
     ]
    }
   ],
   "source": [
    "url = \"https://onepiece.fandom.com/pt/wiki/Kozuki_Oden\"\n",
    "\n",
    "url_list = [\"https://onepiece.fandom.com/pt/wiki/Kozuki_Oden\", \"https://onepiece.fandom.com/pt/wiki/Monkey_D._Luffy\"]\n",
    "\n",
    "for character in url_list:\n",
    "    print(character_data(character))\n"
   ]
  },
  {
   "cell_type": "code",
   "execution_count": null,
   "metadata": {},
   "outputs": [
    {
     "data": {
      "text/html": [
       "<div>\n",
       "<style scoped>\n",
       "    .dataframe tbody tr th:only-of-type {\n",
       "        vertical-align: middle;\n",
       "    }\n",
       "\n",
       "    .dataframe tbody tr th {\n",
       "        vertical-align: top;\n",
       "    }\n",
       "\n",
       "    .dataframe thead th {\n",
       "        text-align: right;\n",
       "    }\n",
       "</style>\n",
       "<table border=\"1\" class=\"dataframe\">\n",
       "  <thead>\n",
       "    <tr style=\"text-align: right;\">\n",
       "      <th></th>\n",
       "      <th>Nome em Japonês:</th>\n",
       "      <th>Nome Romanizado:</th>\n",
       "      <th>Nome em Português:</th>\n",
       "      <th>Estreia:</th>\n",
       "      <th>Afiliações:</th>\n",
       "      <th>Ocupações:</th>\n",
       "      <th>Residência:</th>\n",
       "      <th>Epíteto:</th>\n",
       "      <th>Estado:</th>\n",
       "      <th>Idade na Morte:</th>\n",
       "      <th>Aniversário:</th>\n",
       "      <th>Altura:</th>\n",
       "      <th>Recompensa:</th>\n",
       "      <th>Voz Japonesa:</th>\n",
       "    </tr>\n",
       "  </thead>\n",
       "  <tbody>\n",
       "  </tbody>\n",
       "</table>\n",
       "</div>"
      ],
      "text/plain": [
       "Empty DataFrame\n",
       "Columns: [Nome em Japonês:, Nome Romanizado:, Nome em Português:, Estreia:, Afiliações:, Ocupações:, Residência:, Epíteto:, Estado:, Idade na Morte:, Aniversário:, Altura:, Recompensa:, Voz Japonesa:]\n",
       "Index: []"
      ]
     },
     "execution_count": 8,
     "metadata": {},
     "output_type": "execute_result"
    }
   ],
   "source": [
    "url = \"https://onepiece.fandom.com/pt/wiki/Kozuki_Oden\"\n",
    "\n",
    "soup = BeautifulSoup(requests.get(url).content, \"html.parser\")\n",
    "\n",
    "table_titles = soup.find_all(\"h3\", class_= \"pi-data-label pi-secondary-font\")\n",
    "\n",
    "titles = [title.text for title in table_titles]\n",
    "\n",
    "pd.DataFrame(columns=titles)\n"
   ]
  },
  {
   "cell_type": "code",
   "execution_count": 12,
   "metadata": {},
   "outputs": [
    {
     "data": {
      "text/plain": [
       "<selenium.webdriver.remote.webelement.WebElement (session=\"23161aeb27d0b5c159cbf4f7433bf5bc\", element=\"f.3E46A6AE58C6680E8C1B820B76AB2ACB.d.FAAB525EBEED70232804906EB91565F4.e.173\")>"
      ]
     },
     "execution_count": 12,
     "metadata": {},
     "output_type": "execute_result"
    }
   ],
   "source": [
    "url = \"https://onepiece.fandom.com/wiki/List_of_Canon_Characters\"\n",
    "\n",
    "driver = webdriver.Chrome()\n",
    "driver.get(url)\n",
    "\n",
    "WebDriverWait(driver, 10).until(EC.presence_of_element_located((By.TAG_NAME, \"table\")))\n"
   ]
  },
  {
   "cell_type": "code",
   "execution_count": 8,
   "metadata": {},
   "outputs": [
    {
     "data": {
      "text/plain": [
       "<Response [200]>"
      ]
     },
     "execution_count": 8,
     "metadata": {},
     "output_type": "execute_result"
    }
   ],
   "source": [
    "url= \"https://onepiece.fandom.com/wiki/List_of_Canon_Characters\"\n",
    "\n",
    "html_text = requests.get(url)\n"
   ]
  }
 ],
 "metadata": {
  "kernelspec": {
   "display_name": "Python 3",
   "language": "python",
   "name": "python3"
  },
  "language_info": {
   "codemirror_mode": {
    "name": "ipython",
    "version": 3
   },
   "file_extension": ".py",
   "mimetype": "text/x-python",
   "name": "python",
   "nbconvert_exporter": "python",
   "pygments_lexer": "ipython3",
   "version": "3.12.3"
  }
 },
 "nbformat": 4,
 "nbformat_minor": 2
}
