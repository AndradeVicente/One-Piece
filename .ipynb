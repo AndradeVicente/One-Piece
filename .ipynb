{
 "cells": [
  {
   "cell_type": "markdown",
   "metadata": {},
   "source": [
    "# This project consists in a Scraping of the One Piece Wiki "
   ]
  },
  {
   "cell_type": "code",
   "execution_count": 29,
   "metadata": {},
   "outputs": [],
   "source": [
    "# librarys\n",
    "from bs4 import BeautifulSoup\n",
    "\n",
    "import requests\n",
    "\n",
    "from selenium import webdriver\n",
    "from selenium.webdriver.common.by import By\n",
    "from selenium.webdriver.support.ui import WebDriverWait\n",
    "from selenium.webdriver.support import expected_conditions as EC\n",
    "\n",
    "import pandas as pd\n",
    "\n"
   ]
  },
  {
   "cell_type": "markdown",
   "metadata": {},
   "source": [
    "Scraping Personagens"
   ]
  },
  {
   "cell_type": "code",
   "execution_count": 71,
   "metadata": {},
   "outputs": [],
   "source": [
    "def character_data(url):\n",
    "\n",
    "    dados = {}\n",
    "\n",
    "    columns = [\"Nome em Japonês:\", \"Nome Romanizado:\", \"Nome em Português:\", \"Estreia:\", \"Afiliações:\", \"Ocupações:\", \"Epíteto:\", \"Local de Nascimento:\", \"Residência:\", \"Idade:\", \"Idade na Morte:\", \"Aniversário:\", \"Altura:\", \"Recompensa:\"]\n",
    "\n",
    "    soup = BeautifulSoup(requests.get(url).content, \"html.parser\")\n",
    "    \n",
    "    first_table = soup.find(\"section\", class_=\"pi-item pi-group pi-border-color pi-collapse pi-collapse-open\")\n",
    "\n",
    "    if first_table:\n",
    "\n",
    "        table_titles = first_table.find_all(\"h3\", class_= \"pi-data-label pi-secondary-font\")\n",
    "\n",
    "        for title in table_titles:\n",
    "            \n",
    "            if title.text in columns:\n",
    "                \n",
    "                value = title.find_next_sibling(\"div\")\n",
    "                dados[title.text] = value.text.strip() \n",
    "\n",
    "    akuma_no_mi_table = soup.find(\"tbody\")\n",
    "\n",
    "    if akuma_no_mi_table:\n",
    "\n",
    "        table_titles = akuma_no_mi_table.find_all(\"span\", class_= \"pi-data-label pi-secondary-font\")\n",
    "\n",
    "        for title in table_titles:\n",
    "            value = title.find_next_sibling(\"div\")\n",
    "            dados[title.text] = value.text.strip()\n",
    "\n",
    "    return dados \n",
    "    "
   ]
  },
  {
   "cell_type": "code",
   "execution_count": 72,
   "metadata": {},
   "outputs": [
    {
     "data": {
      "text/plain": [
       "{'Nome em Japonês:': 'モンキー・D・ルフィ',\n",
       " 'Nome Romanizado:': 'Monkī Dī Rufi',\n",
       " 'Nome em Português:': 'Monkey D. Luffy (Panini)',\n",
       " 'Estreia:': 'Capítulo 1;[1] Episódio 1[2]',\n",
       " 'Afiliações:': 'Piratas do Chapéu de Palha;Grande Frota do Chapéu de Palha;Quatro Imperadores;Clã dos D.;Família Dadan (anteriormente);Baratie (temporariamente, anteriormente);[3]Impel Down (anteriormente);Aliança Ninja-Pirata-Mink-Samurai (desfeita)',\n",
       " 'Ocupações:': 'Capitão Pirata;[2]Imperador;[4]Grande Capitão da Grande Frota;Prisioneiro (anteriormente);Faz-Tudo (temporariamente, anteriormente);[3]Bandido (anteriormente)',\n",
       " 'Local de Nascimento:': 'East Blue (Reino Goa)[1]',\n",
       " 'Residência:': 'Vila Foosha (anteriormente);Monte Colubo (anteriormente);Rusukaina (anteriormente)',\n",
       " 'Epíteto:': 'Luffy Chapéu de Palha (麦わらのルフィ, Mugiwara no Rufi?)[10] (Panini)',\n",
       " 'Idade:': '7 (estreia);17 (pré-timeskip);[11]19 (pós-timeskip)[12][13]',\n",
       " 'Aniversário:': '5 de Maio (Dia das Crianças no Japão)[14]',\n",
       " 'Altura:': '0,91 m (estreia, criança)[6]1,72 m (pré-timeskip)[15]1,74 m (pós-timeskip)[12][13]',\n",
       " 'Recompensa:': '3.000.000.000[17]1.500.000.000[18]500.000.000[19]400.000.000[20]300.000.000[21]100.000.000[22]30.000.000[23]',\n",
       " 'Nome em Japonês': 'Gomu Gomu no Mi(Hito Hito no Mi, Modelo: Nika)',\n",
       " 'Nome em Português': 'Fruta da BorrachaFruta do Humano, Modelo: NikaGomugomu-no-mi (Panini)(Hitohito-no-mi, Modelo \"Nika\")',\n",
       " 'Significado:': 'Borracha; Humano; Nika',\n",
       " 'Tipo:': 'Paramecia[24](Zoan Mítica)[25]'}"
      ]
     },
     "execution_count": 72,
     "metadata": {},
     "output_type": "execute_result"
    }
   ],
   "source": [
    "character_data(\"https://onepiece.fandom.com/pt/wiki/Monkey_D._Luffy\")"
   ]
  },
  {
   "cell_type": "code",
   "execution_count": null,
   "metadata": {},
   "outputs": [
    {
     "name": "stdout",
     "output_type": "stream",
     "text": [
      "['Nome em Japonês:', 'Nome Romanizado:', 'Nome em Português:', 'Estreia:', 'Afiliações:', 'Ocupações:', 'Residência:', 'Epíteto:', 'Estado:', 'Idade na Morte:', 'Aniversário:', 'Altura:', 'Recompensa:', 'Voz Japonesa:']\n",
      "['Nome em Japonês:', 'Nome Romanizado:', 'Nome em Português:', 'Estreia:', 'Afiliações:', 'Ocupações:', 'Local de Nascimento:', 'Residência:', 'Pseudônimo:', 'Epíteto:', 'Estado:', 'Idade:', 'Aniversário:', 'Altura:', 'Tipo Sanguíneo:', 'Recompensa:', 'Voz Japonesa:', 'Voz Brasileira (DPN Santos):', 'Voz Brasileira (UniDub):', 'Intérprete do Live-Action:', 'Voz Brasileira no Live-Action:', 'Nome em Japonês', 'Nome em Português:', 'Significado:', 'Tipo:']\n"
     ]
    }
   ],
   "source": [
    "url = \"https://onepiece.fandom.com/pt/wiki/Kozuki_Oden\"\n",
    "\n",
    "url_list = [\"https://onepiece.fandom.com/pt/wiki/Kozuki_Oden\", \"https://onepiece.fandom.com/pt/wiki/Monkey_D._Luffy\"]\n",
    "\n",
    "for character in url_list:\n",
    "    print(character_data(character))\n"
   ]
  },
  {
   "cell_type": "code",
   "execution_count": null,
   "metadata": {},
   "outputs": [
    {
     "data": {
      "text/html": [
       "<div>\n",
       "<style scoped>\n",
       "    .dataframe tbody tr th:only-of-type {\n",
       "        vertical-align: middle;\n",
       "    }\n",
       "\n",
       "    .dataframe tbody tr th {\n",
       "        vertical-align: top;\n",
       "    }\n",
       "\n",
       "    .dataframe thead th {\n",
       "        text-align: right;\n",
       "    }\n",
       "</style>\n",
       "<table border=\"1\" class=\"dataframe\">\n",
       "  <thead>\n",
       "    <tr style=\"text-align: right;\">\n",
       "      <th></th>\n",
       "      <th>Nome em Japonês:</th>\n",
       "      <th>Nome Romanizado:</th>\n",
       "      <th>Nome em Português:</th>\n",
       "      <th>Estreia:</th>\n",
       "      <th>Afiliações:</th>\n",
       "      <th>Ocupações:</th>\n",
       "      <th>Residência:</th>\n",
       "      <th>Epíteto:</th>\n",
       "      <th>Estado:</th>\n",
       "      <th>Idade na Morte:</th>\n",
       "      <th>Aniversário:</th>\n",
       "      <th>Altura:</th>\n",
       "      <th>Recompensa:</th>\n",
       "      <th>Voz Japonesa:</th>\n",
       "    </tr>\n",
       "  </thead>\n",
       "  <tbody>\n",
       "  </tbody>\n",
       "</table>\n",
       "</div>"
      ],
      "text/plain": [
       "Empty DataFrame\n",
       "Columns: [Nome em Japonês:, Nome Romanizado:, Nome em Português:, Estreia:, Afiliações:, Ocupações:, Residência:, Epíteto:, Estado:, Idade na Morte:, Aniversário:, Altura:, Recompensa:, Voz Japonesa:]\n",
       "Index: []"
      ]
     },
     "execution_count": 8,
     "metadata": {},
     "output_type": "execute_result"
    }
   ],
   "source": [
    "url = \"https://onepiece.fandom.com/pt/wiki/Kozuki_Oden\"\n",
    "\n",
    "soup = BeautifulSoup(requests.get(url).content, \"html.parser\")\n",
    "\n",
    "table_titles = soup.find_all(\"h3\", class_= \"pi-data-label pi-secondary-font\")\n",
    "\n",
    "titles = [title.text for title in table_titles]\n",
    "\n",
    "pd.DataFrame(columns=titles)\n"
   ]
  },
  {
   "cell_type": "code",
   "execution_count": 12,
   "metadata": {},
   "outputs": [
    {
     "data": {
      "text/plain": [
       "<selenium.webdriver.remote.webelement.WebElement (session=\"23161aeb27d0b5c159cbf4f7433bf5bc\", element=\"f.3E46A6AE58C6680E8C1B820B76AB2ACB.d.FAAB525EBEED70232804906EB91565F4.e.173\")>"
      ]
     },
     "execution_count": 12,
     "metadata": {},
     "output_type": "execute_result"
    }
   ],
   "source": [
    "url = \"https://onepiece.fandom.com/wiki/List_of_Canon_Characters\"\n",
    "\n",
    "driver = webdriver.Chrome()\n",
    "driver.get(url)\n",
    "\n",
    "WebDriverWait(driver, 10).until(EC.presence_of_element_located((By.TAG_NAME, \"table\")))\n"
   ]
  },
  {
   "cell_type": "code",
   "execution_count": 8,
   "metadata": {},
   "outputs": [
    {
     "data": {
      "text/plain": [
       "<Response [200]>"
      ]
     },
     "execution_count": 8,
     "metadata": {},
     "output_type": "execute_result"
    }
   ],
   "source": [
    "url= \"https://onepiece.fandom.com/wiki/List_of_Canon_Characters\"\n",
    "\n",
    "html_text = requests.get(url)\n"
   ]
  }
 ],
 "metadata": {
  "kernelspec": {
   "display_name": "Python 3",
   "language": "python",
   "name": "python3"
  },
  "language_info": {
   "codemirror_mode": {
    "name": "ipython",
    "version": 3
   },
   "file_extension": ".py",
   "mimetype": "text/x-python",
   "name": "python",
   "nbconvert_exporter": "python",
   "pygments_lexer": "ipython3",
   "version": "3.12.3"
  }
 },
 "nbformat": 4,
 "nbformat_minor": 2
}
